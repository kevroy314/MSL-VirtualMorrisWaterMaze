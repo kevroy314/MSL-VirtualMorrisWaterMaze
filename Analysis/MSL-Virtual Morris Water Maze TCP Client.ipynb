{
 "cells": [
  {
   "cell_type": "code",
   "execution_count": 6,
   "metadata": {
    "collapsed": true
   },
   "outputs": [],
   "source": [
    "'''\n",
    "    Set up some parsing functions first.\n",
    "'''\n",
    "\n",
    "import io\n",
    "import matplotlib.pyplot as plt\n",
    "import cv2\n",
    "\n",
    "# Helper function for decoding state information\n",
    "def decode_state(state_message):\n",
    "    raise NotImplementedError\n",
    "    return None\n",
    "\n",
    "# Helper function for parsing messages\n",
    "def parse_message(message):\n",
    "    # For image messages\n",
    "    if message[0:len(\"Image\")] == bytes(\"Image\", 'utf8'):\n",
    "        # There may be a cleaner way to do this conversion, but this works fast enough for comfort\n",
    "        return {'type':\"Image\", \n",
    "                'value': cv2.cvtColor(plt.imread(io.BytesIO(message[len(\"Image\"):]), format='JPG'), cv2.COLOR_BGR2RGB)}\n",
    "    elif message[0:len(\"State\")] == bytes(\"State\", 'utf8'):\n",
    "        # If we receive state information, decode it\n",
    "        return {'type':\"State\", \n",
    "                'value': decode_state(message[len(\"State\"):-1])}\n",
    "    else:\n",
    "        # Default messages are returned as-is (with type as None and value as message)\n",
    "        return {'type': None, \n",
    "                'value': message}"
   ]
  },
  {
   "cell_type": "code",
   "execution_count": 5,
   "metadata": {
    "collapsed": false
   },
   "outputs": [
    {
     "name": "stdout",
     "output_type": "stream",
     "text": [
      "Done\n"
     ]
    }
   ],
   "source": [
    "'''\n",
    "    Set up the communication client and begin. Keyboard Interrupt closes.\n",
    "'''\n",
    "\n",
    "import socket\n",
    "import select\n",
    "import numpy as np\n",
    "import time\n",
    "import cv2\n",
    "\n",
    "# Plot inline\n",
    "%matplotlib inline\n",
    "# Set up OpenCV Window\n",
    "cv2.startWindowThread()\n",
    "\n",
    "# TCP Socket Parameters\n",
    "TCP_IP = '10.0.75.1'\n",
    "TCP_PORT = 5005\n",
    "# Data Buffer\n",
    "BUFFER_SIZE = 1024\n",
    "data = b''\n",
    "\n",
    "# End Message Token\n",
    "END_TOKEN = \"<EOF>\"\n",
    "\n",
    "# Set up Socket\n",
    "s = socket.socket(socket.AF_INET, socket.SOCK_STREAM)\n",
    "s.connect((TCP_IP, TCP_PORT))\n",
    "s.setblocking(0)\n",
    "\n",
    "# Set Start Trial Option\n",
    "s.send(bytes(\"PlayerPrefsStrial,Practice - Hills\" + END_TOKEN, 'utf8'))\n",
    "\n",
    "# Start Scene\n",
    "s.send(bytes(\"Scene1\" + END_TOKEN, 'utf8'))\n",
    "\n",
    "# Request First Image Frame\n",
    "# s.send(bytes(\"ImageRequest\" + END_TOKEN, 'utf8'))\n",
    "\n",
    "# Loop until keyboard interrupt, reading/requesting data\n",
    "while True:\n",
    "    try:\n",
    "        # Wait for data and store in buffer\n",
    "        ready = select.select([s], [], [], 0)\n",
    "        if ready[0]:\n",
    "            try:\n",
    "                data += s.recv(BUFFER_SIZE)\n",
    "            except ConnectionResetError:\n",
    "                print(\"The connection was closed.\")\n",
    "                break\n",
    "        \n",
    "        # Check if buffer has a full message\n",
    "        if(bytes(END_TOKEN, 'utf8') in data):\n",
    "            # Decode the message and clear it from the buffer\n",
    "            idx = data.index(bytes(END_TOKEN, 'utf8'))\n",
    "            while idx != -1:\n",
    "                parsed_message = parse_message(data[0:idx])\n",
    "            \n",
    "                # If the message was an image, display it using OpenCV (faster than matplotlib)\n",
    "                if parsed_message['type'] == 'Image':\n",
    "                    cv2.imshow('frame', parsed_message['value'])\n",
    "                    cv2.waitKey(1)\n",
    "\n",
    "                    # Send a request for a new frame\n",
    "                    s.send(bytes(\"KeyUP\" + END_TOKEN, 'utf8'))\n",
    "                    # s.send(bytes(\"ImageRequest\" + END_TOKEN, 'utf8'))\n",
    "\n",
    "                data = data[idx + len(END_TOKEN):-1]\n",
    "                if(data != ''):\n",
    "                    try:\n",
    "                        idx = str(data).index(END_TOKEN)\n",
    "                    except ValueError:\n",
    "                            break\n",
    "\n",
    "    # Wait for a keyboard interrupt to stop the loop\n",
    "    except KeyboardInterrupt:\n",
    "        break\n",
    "\n",
    "# Close the socket and destroy the display window\n",
    "s.close()\n",
    "cv2.destroyAllWindows()\n",
    "\n",
    "# Confirm exit\n",
    "print('Done')"
   ]
  },
  {
   "cell_type": "code",
   "execution_count": null,
   "metadata": {
    "collapsed": true
   },
   "outputs": [],
   "source": []
  }
 ],
 "metadata": {
  "anaconda-cloud": {},
  "kernelspec": {
   "display_name": "Python [default]",
   "language": "python",
   "name": "python3"
  },
  "language_info": {
   "codemirror_mode": {
    "name": "ipython",
    "version": 3
   },
   "file_extension": ".py",
   "mimetype": "text/x-python",
   "name": "python",
   "nbconvert_exporter": "python",
   "pygments_lexer": "ipython3",
   "version": "3.5.3"
  }
 },
 "nbformat": 4,
 "nbformat_minor": 1
}
